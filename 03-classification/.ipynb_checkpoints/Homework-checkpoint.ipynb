{
 "cells": [
  {
   "cell_type": "code",
   "execution_count": 1,
   "id": "7e108c89-26d2-4d96-b927-2c3f8152dff6",
   "metadata": {},
   "outputs": [],
   "source": [
    "# Load libraries\n",
    "import pandas as pd\n",
    "import numpy as np\n",
    "\n",
    "from sklearn.model_selection import train_test_split\n",
    "from sklearn.metrics import mutual_info_score\n",
    "from sklearn.preprocessing import OneHotEncoder\n",
    "from sklearn.linear_model import LogisticRegression\n",
    "from sklearn.pipeline import make_pipeline\n",
    "from sklearn.compose import ColumnTransformer"
   ]
  },
  {
   "cell_type": "code",
   "execution_count": 2,
   "id": "23862b92-916a-43f6-8514-2b065c9acf6b",
   "metadata": {},
   "outputs": [
    {
     "data": {
      "text/plain": [
       "(1462, 8)"
      ]
     },
     "execution_count": 2,
     "metadata": {},
     "output_type": "execute_result"
    }
   ],
   "source": [
    "# Load data\n",
    "df = pd.read_csv('https://raw.githubusercontent.com/alexeygrigorev/datasets/master/course_lead_scoring.csv')\n",
    "data = df.drop(columns = ['converted'])\n",
    "target = df.converted\n",
    "data.shape"
   ]
  },
  {
   "cell_type": "code",
   "execution_count": 3,
   "id": "7699f110-e415-4da1-8062-4a85c6c9aaeb",
   "metadata": {},
   "outputs": [
    {
     "data": {
      "text/html": [
       "<div>\n",
       "<style scoped>\n",
       "    .dataframe tbody tr th:only-of-type {\n",
       "        vertical-align: middle;\n",
       "    }\n",
       "\n",
       "    .dataframe tbody tr th {\n",
       "        vertical-align: top;\n",
       "    }\n",
       "\n",
       "    .dataframe thead th {\n",
       "        text-align: right;\n",
       "    }\n",
       "</style>\n",
       "<table border=\"1\" class=\"dataframe\">\n",
       "  <thead>\n",
       "    <tr style=\"text-align: right;\">\n",
       "      <th></th>\n",
       "      <th>lead_source</th>\n",
       "      <th>industry</th>\n",
       "      <th>number_of_courses_viewed</th>\n",
       "      <th>annual_income</th>\n",
       "      <th>employment_status</th>\n",
       "      <th>location</th>\n",
       "      <th>interaction_count</th>\n",
       "      <th>lead_score</th>\n",
       "    </tr>\n",
       "  </thead>\n",
       "  <tbody>\n",
       "    <tr>\n",
       "      <th>0</th>\n",
       "      <td>paid_ads</td>\n",
       "      <td>NaN</td>\n",
       "      <td>1</td>\n",
       "      <td>79450.0</td>\n",
       "      <td>unemployed</td>\n",
       "      <td>south_america</td>\n",
       "      <td>4</td>\n",
       "      <td>0.94</td>\n",
       "    </tr>\n",
       "    <tr>\n",
       "      <th>1</th>\n",
       "      <td>social_media</td>\n",
       "      <td>retail</td>\n",
       "      <td>1</td>\n",
       "      <td>46992.0</td>\n",
       "      <td>employed</td>\n",
       "      <td>south_america</td>\n",
       "      <td>1</td>\n",
       "      <td>0.80</td>\n",
       "    </tr>\n",
       "    <tr>\n",
       "      <th>2</th>\n",
       "      <td>events</td>\n",
       "      <td>healthcare</td>\n",
       "      <td>5</td>\n",
       "      <td>78796.0</td>\n",
       "      <td>unemployed</td>\n",
       "      <td>australia</td>\n",
       "      <td>3</td>\n",
       "      <td>0.69</td>\n",
       "    </tr>\n",
       "    <tr>\n",
       "      <th>3</th>\n",
       "      <td>paid_ads</td>\n",
       "      <td>retail</td>\n",
       "      <td>2</td>\n",
       "      <td>83843.0</td>\n",
       "      <td>NaN</td>\n",
       "      <td>australia</td>\n",
       "      <td>1</td>\n",
       "      <td>0.87</td>\n",
       "    </tr>\n",
       "    <tr>\n",
       "      <th>4</th>\n",
       "      <td>referral</td>\n",
       "      <td>education</td>\n",
       "      <td>3</td>\n",
       "      <td>85012.0</td>\n",
       "      <td>self_employed</td>\n",
       "      <td>europe</td>\n",
       "      <td>3</td>\n",
       "      <td>0.62</td>\n",
       "    </tr>\n",
       "  </tbody>\n",
       "</table>\n",
       "</div>"
      ],
      "text/plain": [
       "    lead_source    industry  number_of_courses_viewed  annual_income  \\\n",
       "0      paid_ads         NaN                         1        79450.0   \n",
       "1  social_media      retail                         1        46992.0   \n",
       "2        events  healthcare                         5        78796.0   \n",
       "3      paid_ads      retail                         2        83843.0   \n",
       "4      referral   education                         3        85012.0   \n",
       "\n",
       "  employment_status       location  interaction_count  lead_score  \n",
       "0        unemployed  south_america                  4        0.94  \n",
       "1          employed  south_america                  1        0.80  \n",
       "2        unemployed      australia                  3        0.69  \n",
       "3               NaN      australia                  1        0.87  \n",
       "4     self_employed         europe                  3        0.62  "
      ]
     },
     "execution_count": 3,
     "metadata": {},
     "output_type": "execute_result"
    }
   ],
   "source": [
    "data.head()"
   ]
  },
  {
   "cell_type": "code",
   "execution_count": 4,
   "id": "5c1bcca2-45ea-4611-8ca5-9f2338aa196e",
   "metadata": {},
   "outputs": [
    {
     "data": {
      "text/plain": [
       "Index(['lead_source', 'industry', 'employment_status', 'location'], dtype='object')"
      ]
     },
     "execution_count": 4,
     "metadata": {},
     "output_type": "execute_result"
    }
   ],
   "source": [
    "categorical_columns = data.select_dtypes(include='object').columns\n",
    "categorical_columns"
   ]
  },
  {
   "cell_type": "code",
   "execution_count": 5,
   "id": "d14e4184-ed7a-460d-ab4c-b936b6584552",
   "metadata": {},
   "outputs": [
    {
     "data": {
      "text/plain": [
       "lead_source          5\n",
       "industry             7\n",
       "employment_status    4\n",
       "location             7\n",
       "dtype: int64"
      ]
     },
     "execution_count": 5,
     "metadata": {},
     "output_type": "execute_result"
    }
   ],
   "source": [
    "data[categorical_columns].nunique()"
   ]
  },
  {
   "cell_type": "code",
   "execution_count": 6,
   "id": "b98841f6-511f-46cb-999a-aa312a160ed6",
   "metadata": {},
   "outputs": [
    {
     "data": {
      "text/plain": [
       "converted\n",
       "1    905\n",
       "0    557\n",
       "Name: count, dtype: int64"
      ]
     },
     "execution_count": 6,
     "metadata": {},
     "output_type": "execute_result"
    }
   ],
   "source": [
    "target.value_counts()"
   ]
  },
  {
   "cell_type": "code",
   "execution_count": 7,
   "id": "ba2ebd4d-b934-4d03-b67f-d19c657ef2a2",
   "metadata": {},
   "outputs": [
    {
     "data": {
      "text/plain": [
       "industry\n",
       "retail           203\n",
       "finance          200\n",
       "other            198\n",
       "education        187\n",
       "healthcare       187\n",
       "technology       179\n",
       "manufacturing    174\n",
       "Name: count, dtype: int64"
      ]
     },
     "execution_count": 7,
     "metadata": {},
     "output_type": "execute_result"
    }
   ],
   "source": [
    "data.industry.value_counts()"
   ]
  },
  {
   "cell_type": "code",
   "execution_count": 8,
   "id": "41aee094-31a5-485b-a08c-9bf962a1f1eb",
   "metadata": {},
   "outputs": [],
   "source": [
    "data = data.fillna({col: 'NA' for col in data.select_dtypes(include = 'object')} |\n",
    "                   {col: 0.0 for col in data.select_dtypes(exclude = 'object')})"
   ]
  },
  {
   "cell_type": "code",
   "execution_count": 9,
   "id": "e1793218-5a66-4362-a5c2-e14a92a78a96",
   "metadata": {},
   "outputs": [
    {
     "data": {
      "text/plain": [
       "lead_source                 0\n",
       "industry                    0\n",
       "number_of_courses_viewed    0\n",
       "annual_income               0\n",
       "employment_status           0\n",
       "location                    0\n",
       "interaction_count           0\n",
       "lead_score                  0\n",
       "dtype: int64"
      ]
     },
     "execution_count": 9,
     "metadata": {},
     "output_type": "execute_result"
    }
   ],
   "source": [
    "data.isnull().sum()"
   ]
  },
  {
   "cell_type": "code",
   "execution_count": 10,
   "id": "f734fbf0-d775-48d6-81e7-592caa5ed26a",
   "metadata": {},
   "outputs": [
    {
     "data": {
      "text/html": [
       "<div>\n",
       "<style scoped>\n",
       "    .dataframe tbody tr th:only-of-type {\n",
       "        vertical-align: middle;\n",
       "    }\n",
       "\n",
       "    .dataframe tbody tr th {\n",
       "        vertical-align: top;\n",
       "    }\n",
       "\n",
       "    .dataframe thead th {\n",
       "        text-align: right;\n",
       "    }\n",
       "</style>\n",
       "<table border=\"1\" class=\"dataframe\">\n",
       "  <thead>\n",
       "    <tr style=\"text-align: right;\">\n",
       "      <th></th>\n",
       "      <th>number_of_courses_viewed</th>\n",
       "      <th>annual_income</th>\n",
       "      <th>interaction_count</th>\n",
       "      <th>lead_score</th>\n",
       "    </tr>\n",
       "  </thead>\n",
       "  <tbody>\n",
       "    <tr>\n",
       "      <th>number_of_courses_viewed</th>\n",
       "      <td>1.000000</td>\n",
       "      <td>0.009770</td>\n",
       "      <td>-0.023565</td>\n",
       "      <td>-0.004879</td>\n",
       "    </tr>\n",
       "    <tr>\n",
       "      <th>annual_income</th>\n",
       "      <td>0.009770</td>\n",
       "      <td>1.000000</td>\n",
       "      <td>0.027036</td>\n",
       "      <td>0.015610</td>\n",
       "    </tr>\n",
       "    <tr>\n",
       "      <th>interaction_count</th>\n",
       "      <td>-0.023565</td>\n",
       "      <td>0.027036</td>\n",
       "      <td>1.000000</td>\n",
       "      <td>0.009888</td>\n",
       "    </tr>\n",
       "    <tr>\n",
       "      <th>lead_score</th>\n",
       "      <td>-0.004879</td>\n",
       "      <td>0.015610</td>\n",
       "      <td>0.009888</td>\n",
       "      <td>1.000000</td>\n",
       "    </tr>\n",
       "  </tbody>\n",
       "</table>\n",
       "</div>"
      ],
      "text/plain": [
       "                          number_of_courses_viewed  annual_income  \\\n",
       "number_of_courses_viewed                  1.000000       0.009770   \n",
       "annual_income                             0.009770       1.000000   \n",
       "interaction_count                        -0.023565       0.027036   \n",
       "lead_score                               -0.004879       0.015610   \n",
       "\n",
       "                          interaction_count  lead_score  \n",
       "number_of_courses_viewed          -0.023565   -0.004879  \n",
       "annual_income                      0.027036    0.015610  \n",
       "interaction_count                  1.000000    0.009888  \n",
       "lead_score                         0.009888    1.000000  "
      ]
     },
     "execution_count": 10,
     "metadata": {},
     "output_type": "execute_result"
    }
   ],
   "source": [
    "data.corr(numeric_only = True)"
   ]
  },
  {
   "cell_type": "code",
   "execution_count": 11,
   "id": "4c19d740-4d91-42db-9251-8a0cafabcbd4",
   "metadata": {},
   "outputs": [],
   "source": [
    "train_size = 0.6\n",
    "val_size = 0.2\n",
    "test_size = 0.2\n",
    "random_state = 42\n",
    "\n",
    "data_full_train, data_test, y_full_train, y_test = train_test_split(data, target, test_size=test_size, random_state=random_state)\n",
    "data_train, data_val, y_train, y_val = train_test_split(data_full_train, y_full_train, test_size=val_size / (1 - test_size), random_state=random_state)"
   ]
  },
  {
   "cell_type": "code",
   "execution_count": 12,
   "id": "61f79d7c-40f8-4185-83bd-55c02e77da23",
   "metadata": {},
   "outputs": [
    {
     "data": {
      "text/plain": [
       "lead_source          0.035396\n",
       "employment_status    0.012938\n",
       "industry             0.011575\n",
       "location             0.004464\n",
       "dtype: float64"
      ]
     },
     "execution_count": 12,
     "metadata": {},
     "output_type": "execute_result"
    }
   ],
   "source": [
    "def compute_mutual_info_score(series):\n",
    "    return mutual_info_score(series, y_train)\n",
    "\n",
    "mi = data_train.select_dtypes(include='object').apply(compute_mutual_info_score)\n",
    "mi.sort_values(ascending=False)\n"
   ]
  },
  {
   "cell_type": "code",
   "execution_count": 13,
   "id": "5472e566-81bb-4983-a480-7839f0a3c676",
   "metadata": {},
   "outputs": [],
   "source": [
    "def train_a_model_and_return_accuracy(data_train, data_val, \n",
    "                                      categorical_columns,\n",
    "                                      column_to_remove = None,\n",
    "                                      c = 0.1) : \n",
    "\n",
    "    if column_to_remove : \n",
    "        data_train = data_train.drop(columns = column_to_remove).copy()\n",
    "        data_val = data_val.drop(columns = column_to_remove).copy()\n",
    "        categorical_columns = categorical_columns.drop(column_to_remove).copy()\n",
    "    \n",
    "    categorical_preprocessor = OneHotEncoder()\n",
    "\n",
    "    preprocessor = ColumnTransformer(\n",
    "        [(\"one-hot-encoder\", categorical_preprocessor, categorical_columns)],\n",
    "        remainder = 'passthrough'\n",
    "    )\n",
    "\n",
    "    model = make_pipeline(preprocessor, \n",
    "                          LogisticRegression(solver='liblinear', C=c, max_iter=1000, random_state=42))\n",
    "\n",
    "    model.fit(data_train, y_train)\n",
    "\n",
    "    accuracy = (model.predict(data_val) == y_val).mean()\n",
    "\n",
    "    return accuracy"
   ]
  },
  {
   "cell_type": "code",
   "execution_count": 14,
   "id": "19880b6d-caba-47e7-acd5-f45957631298",
   "metadata": {},
   "outputs": [
    {
     "data": {
      "text/plain": [
       "np.float64(0.6996587030716723)"
      ]
     },
     "execution_count": 14,
     "metadata": {},
     "output_type": "execute_result"
    }
   ],
   "source": [
    "original_accuracy = train_a_model_and_return_accuracy(data_train, data_val, categorical_columns)\n",
    "original_accuracy"
   ]
  },
  {
   "cell_type": "code",
   "execution_count": 15,
   "id": "783484b3-6aba-4657-bbc6-4a482d137478",
   "metadata": {},
   "outputs": [
    {
     "name": "stdout",
     "output_type": "stream",
     "text": [
      "lead_source : 0.69966\n",
      "lead_source diff : 0.0\n",
      "industry : 0.69966\n",
      "industry diff : 0.0\n",
      "employment_status : 0.69625\n",
      "employment_status diff : 0.00341\n",
      "location : 0.70648\n",
      "location diff : 0.00683\n"
     ]
    }
   ],
   "source": [
    "for col in categorical_columns : \n",
    "\n",
    "    accuracy = train_a_model_and_return_accuracy(data_train, data_val, categorical_columns,\n",
    "                                     column_to_remove = col)\n",
    "\n",
    "    print('%s : %s' %(col, accuracy.round(5)))\n",
    "    print('%s diff : %s' %(col, abs(original_accuracy - accuracy).round(5)))"
   ]
  },
  {
   "cell_type": "code",
   "execution_count": 16,
   "id": "5f7e139e-ffdf-4114-b42d-5497e5dfbbc1",
   "metadata": {},
   "outputs": [
    {
     "name": "stdout",
     "output_type": "stream",
     "text": [
      "0.01 : 0.69966\n",
      "0.1 : 0.69966\n",
      "1 : 0.69966\n",
      "10 : 0.69966\n",
      "100 : 0.69966\n"
     ]
    }
   ],
   "source": [
    "for c in [0.01, 0.1, 1, 10, 100] : \n",
    "# for c in [1e-6, 1e-3, 1e-1, 1, 10, 1e3, 1e6]:\n",
    "\n",
    "    accuracy = train_a_model_and_return_accuracy(data_train, data_val, categorical_columns,\n",
    "                                     c = c)\n",
    "\n",
    "    print('%s : %s' %(c, accuracy.round(5)))"
   ]
  }
 ],
 "metadata": {
  "kernelspec": {
   "display_name": "Python 3 (ipykernel)",
   "language": "python",
   "name": "python3"
  },
  "language_info": {
   "codemirror_mode": {
    "name": "ipython",
    "version": 3
   },
   "file_extension": ".py",
   "mimetype": "text/x-python",
   "name": "python",
   "nbconvert_exporter": "python",
   "pygments_lexer": "ipython3",
   "version": "3.12.1"
  }
 },
 "nbformat": 4,
 "nbformat_minor": 5
}
