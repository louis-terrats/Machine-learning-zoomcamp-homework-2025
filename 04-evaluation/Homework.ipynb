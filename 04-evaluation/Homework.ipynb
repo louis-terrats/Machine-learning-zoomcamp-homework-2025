{
 "cells": [
  {
   "cell_type": "code",
   "execution_count": 1,
   "id": "91f379b5-1dbc-42b2-a4ff-635f7eb6374c",
   "metadata": {},
   "outputs": [],
   "source": [
    "# Load libraries\n",
    "import pandas as pd\n",
    "import numpy as np\n",
    "\n",
    "from sklearn.model_selection import train_test_split, KFold\n",
    "from sklearn.metrics import roc_curve, auc, roc_auc_score, precision_score, recall_score\n",
    "from sklearn.feature_extraction import DictVectorizer\n",
    "from sklearn.linear_model import LogisticRegression\n"
   ]
  },
  {
   "cell_type": "code",
   "execution_count": 2,
   "id": "e73a15f6-0acb-48c1-9046-b9250151071d",
   "metadata": {},
   "outputs": [
    {
     "data": {
      "text/plain": [
       "(1462, 8)"
      ]
     },
     "execution_count": 2,
     "metadata": {},
     "output_type": "execute_result"
    }
   ],
   "source": [
    "# Load data\n",
    "df = pd.read_csv('https://raw.githubusercontent.com/alexeygrigorev/datasets/master/course_lead_scoring.csv')\n",
    "data = df.drop(columns = ['converted'])\n",
    "target = df.converted\n",
    "data.shape"
   ]
  },
  {
   "cell_type": "code",
   "execution_count": 3,
   "id": "d52bac79-272f-4418-8919-9822ffde3287",
   "metadata": {},
   "outputs": [
    {
     "data": {
      "text/plain": [
       "0       1\n",
       "1       0\n",
       "2       1\n",
       "3       0\n",
       "4       1\n",
       "       ..\n",
       "1457    1\n",
       "1458    1\n",
       "1459    1\n",
       "1460    1\n",
       "1461    1\n",
       "Name: converted, Length: 1462, dtype: int64"
      ]
     },
     "execution_count": 3,
     "metadata": {},
     "output_type": "execute_result"
    }
   ],
   "source": [
    "target"
   ]
  },
  {
   "cell_type": "code",
   "execution_count": 4,
   "id": "1da06168-fb2c-4353-b32d-82536ea97d37",
   "metadata": {
    "scrolled": true
   },
   "outputs": [
    {
     "data": {
      "text/html": [
       "<div>\n",
       "<style scoped>\n",
       "    .dataframe tbody tr th:only-of-type {\n",
       "        vertical-align: middle;\n",
       "    }\n",
       "\n",
       "    .dataframe tbody tr th {\n",
       "        vertical-align: top;\n",
       "    }\n",
       "\n",
       "    .dataframe thead th {\n",
       "        text-align: right;\n",
       "    }\n",
       "</style>\n",
       "<table border=\"1\" class=\"dataframe\">\n",
       "  <thead>\n",
       "    <tr style=\"text-align: right;\">\n",
       "      <th></th>\n",
       "      <th>lead_source</th>\n",
       "      <th>industry</th>\n",
       "      <th>number_of_courses_viewed</th>\n",
       "      <th>annual_income</th>\n",
       "      <th>employment_status</th>\n",
       "      <th>location</th>\n",
       "      <th>interaction_count</th>\n",
       "      <th>lead_score</th>\n",
       "    </tr>\n",
       "  </thead>\n",
       "  <tbody>\n",
       "    <tr>\n",
       "      <th>0</th>\n",
       "      <td>paid_ads</td>\n",
       "      <td>NaN</td>\n",
       "      <td>1</td>\n",
       "      <td>79450.0</td>\n",
       "      <td>unemployed</td>\n",
       "      <td>south_america</td>\n",
       "      <td>4</td>\n",
       "      <td>0.94</td>\n",
       "    </tr>\n",
       "    <tr>\n",
       "      <th>1</th>\n",
       "      <td>social_media</td>\n",
       "      <td>retail</td>\n",
       "      <td>1</td>\n",
       "      <td>46992.0</td>\n",
       "      <td>employed</td>\n",
       "      <td>south_america</td>\n",
       "      <td>1</td>\n",
       "      <td>0.80</td>\n",
       "    </tr>\n",
       "    <tr>\n",
       "      <th>2</th>\n",
       "      <td>events</td>\n",
       "      <td>healthcare</td>\n",
       "      <td>5</td>\n",
       "      <td>78796.0</td>\n",
       "      <td>unemployed</td>\n",
       "      <td>australia</td>\n",
       "      <td>3</td>\n",
       "      <td>0.69</td>\n",
       "    </tr>\n",
       "    <tr>\n",
       "      <th>3</th>\n",
       "      <td>paid_ads</td>\n",
       "      <td>retail</td>\n",
       "      <td>2</td>\n",
       "      <td>83843.0</td>\n",
       "      <td>NaN</td>\n",
       "      <td>australia</td>\n",
       "      <td>1</td>\n",
       "      <td>0.87</td>\n",
       "    </tr>\n",
       "    <tr>\n",
       "      <th>4</th>\n",
       "      <td>referral</td>\n",
       "      <td>education</td>\n",
       "      <td>3</td>\n",
       "      <td>85012.0</td>\n",
       "      <td>self_employed</td>\n",
       "      <td>europe</td>\n",
       "      <td>3</td>\n",
       "      <td>0.62</td>\n",
       "    </tr>\n",
       "  </tbody>\n",
       "</table>\n",
       "</div>"
      ],
      "text/plain": [
       "    lead_source    industry  number_of_courses_viewed  annual_income  \\\n",
       "0      paid_ads         NaN                         1        79450.0   \n",
       "1  social_media      retail                         1        46992.0   \n",
       "2        events  healthcare                         5        78796.0   \n",
       "3      paid_ads      retail                         2        83843.0   \n",
       "4      referral   education                         3        85012.0   \n",
       "\n",
       "  employment_status       location  interaction_count  lead_score  \n",
       "0        unemployed  south_america                  4        0.94  \n",
       "1          employed  south_america                  1        0.80  \n",
       "2        unemployed      australia                  3        0.69  \n",
       "3               NaN      australia                  1        0.87  \n",
       "4     self_employed         europe                  3        0.62  "
      ]
     },
     "execution_count": 4,
     "metadata": {},
     "output_type": "execute_result"
    }
   ],
   "source": [
    "data.head()"
   ]
  },
  {
   "cell_type": "code",
   "execution_count": 5,
   "id": "0d1466cb-b523-4d70-af8a-e2fbd9bbf209",
   "metadata": {},
   "outputs": [],
   "source": [
    "data = data.fillna({col: 'NA' for col in data.select_dtypes(include = 'object')} |\n",
    "                   {col: 0.0 for col in data.select_dtypes(exclude = 'object')})"
   ]
  },
  {
   "cell_type": "code",
   "execution_count": 6,
   "id": "428658f8-587f-4271-9544-5124a9c26efb",
   "metadata": {},
   "outputs": [
    {
     "data": {
      "text/plain": [
       "lead_source                 0\n",
       "industry                    0\n",
       "number_of_courses_viewed    0\n",
       "annual_income               0\n",
       "employment_status           0\n",
       "location                    0\n",
       "interaction_count           0\n",
       "lead_score                  0\n",
       "dtype: int64"
      ]
     },
     "execution_count": 6,
     "metadata": {},
     "output_type": "execute_result"
    }
   ],
   "source": [
    "data.isnull().sum()"
   ]
  },
  {
   "cell_type": "code",
   "execution_count": 7,
   "id": "fc8f5aee-2da3-4e81-9564-42ebe1cf8765",
   "metadata": {},
   "outputs": [
    {
     "name": "stdout",
     "output_type": "stream",
     "text": [
      "Train : 876 / Validation : 293 / Test : 293\n"
     ]
    }
   ],
   "source": [
    "train_size = 0.6\n",
    "val_size = 0.2\n",
    "test_size = 0.2\n",
    "random_state = 1\n",
    "\n",
    "data_full_train, data_test, y_full_train, y_test = train_test_split(data, target, test_size=test_size, random_state=random_state)\n",
    "data_train, data_val, y_train, y_val = train_test_split(data_full_train, y_full_train, test_size=val_size / (1 - test_size), random_state=random_state)\n",
    "\n",
    "print( \"Train : %s / Validation : %s / Test : %s\" %(data_train.shape[0], data_val.shape[0], data_test.shape[0]))"
   ]
  },
  {
   "cell_type": "code",
   "execution_count": 8,
   "id": "a3568dcb-a5f2-489e-ac7c-9931551f241b",
   "metadata": {},
   "outputs": [
    {
     "name": "stdout",
     "output_type": "stream",
     "text": [
      "number_of_courses_viewed : 0.7635680590007088\n",
      "annual_income : 0.5519578313253012\n",
      "interaction_count : 0.738270176293409\n",
      "lead_score : 0.6144993577250176\n"
     ]
    }
   ],
   "source": [
    "# Q1\n",
    "numerical_features = data.select_dtypes(exclude='object').columns\n",
    "\n",
    "for num_col in numerical_features : \n",
    "\n",
    "    fpr, tpr, thresholds = roc_curve(y_train, data_train[num_col])\n",
    "    auc_score = auc(fpr, tpr)\n",
    "    print('%s : %s' %(num_col, auc_score))\n"
   ]
  },
  {
   "cell_type": "code",
   "execution_count": 9,
   "id": "a0cbe536-eb51-4eb9-a040-8645c7f82f35",
   "metadata": {},
   "outputs": [],
   "source": [
    "# Q2\n",
    "\n",
    "def train(data_train, y_train, C = 1.0) : \n",
    "\n",
    "    train_dict = data_train.to_dict(orient='records')\n",
    "    dv = DictVectorizer(sparse=False)\n",
    "    X_train = dv.fit_transform(train_dict)\n",
    "    model = LogisticRegression(solver='liblinear', C=C, max_iter=1000)\n",
    "    model.fit(X_train, y_train)\n",
    "\n",
    "    return model, dv\n",
    "\n",
    "def predict(model, dv, data_val, threshold = None) : \n",
    "\n",
    "    val_dict = data_val.to_dict(orient='records')\n",
    "    X_val = dv.transform(val_dict)\n",
    "    \n",
    "    predictions = model.predict_proba(X_val)[:, 1]\n",
    "\n",
    "    return predictions, X_val\n",
    "\n",
    "def return_AUC(predictions, y_val) : \n",
    "    \n",
    "    AUC_score = roc_auc_score(y_val, predictions)\n",
    "\n",
    "    return AUC_score\n"
   ]
  },
  {
   "cell_type": "code",
   "execution_count": 10,
   "id": "2c669cd2-89dd-4c9b-a22c-1fdbe4459554",
   "metadata": {},
   "outputs": [
    {
     "data": {
      "text/plain": [
       "0.8171316268814112"
      ]
     },
     "execution_count": 10,
     "metadata": {},
     "output_type": "execute_result"
    }
   ],
   "source": [
    "model, dv = train(data_train, y_train)\n",
    "predictions, X_val = predict(model, dv, data_val)\n",
    "AUC = return_AUC(predictions, y_val)\n",
    "AUC"
   ]
  },
  {
   "cell_type": "code",
   "execution_count": 11,
   "id": "4e7b786f-1aac-4ec3-9b1a-a5cede4a3e48",
   "metadata": {},
   "outputs": [
    {
     "name": "stderr",
     "output_type": "stream",
     "text": [
      "/home/codespace/.local/lib/python3.12/site-packages/sklearn/metrics/_classification.py:1706: UndefinedMetricWarning: Precision is ill-defined and being set to 0.0 due to no predicted samples. Use `zero_division` parameter to control this behavior.\n",
      "  _warn_prf(average, modifier, f\"{metric.capitalize()} is\", result.shape[0])\n",
      "/home/codespace/.local/lib/python3.12/site-packages/sklearn/metrics/_classification.py:1706: UndefinedMetricWarning: Precision is ill-defined and being set to 0.0 due to no predicted samples. Use `zero_division` parameter to control this behavior.\n",
      "  _warn_prf(average, modifier, f\"{metric.capitalize()} is\", result.shape[0])\n"
     ]
    }
   ],
   "source": [
    "all_precision = np.array([])\n",
    "all_recall = np.array([])\n",
    "thresholds_to_test = np.arange(0, 1, 0.01)\n",
    "\n",
    "targets = y_val\n",
    "\n",
    "for threshold in thresholds_to_test : \n",
    "\n",
    "    predictions_bin = (predictions > threshold).astype(int)\n",
    "    \n",
    "    precision = precision_score(targets, predictions_bin)\n",
    "    recall = recall_score(targets, predictions_bin)\n",
    "\n",
    "    all_precision = np.append(all_precision, precision)\n",
    "    all_recall = np.append(all_recall, recall)"
   ]
  },
  {
   "cell_type": "code",
   "execution_count": 12,
   "id": "5545afd8-c0a5-470f-a32b-41508bb73e6c",
   "metadata": {},
   "outputs": [
    {
     "data": {
      "text/plain": [
       "<matplotlib.legend.Legend at 0x7725f47820f0>"
      ]
     },
     "execution_count": 12,
     "metadata": {},
     "output_type": "execute_result"
    },
    {
     "data": {
      "image/png": "[encoded data removed]",
      "text/plain": [
       "<Figure size 640x480 with 1 Axes>"
      ]
     },
     "metadata": {},
     "output_type": "display_data"
    }
   ],
   "source": [
    "import matplotlib.pyplot as plt\n",
    "\n",
    "plt.plot(thresholds_to_test, all_precision, label = 'precision')\n",
    "plt.plot(thresholds_to_test, all_recall, label = 'recall')\n",
    "plt.legend()"
   ]
  },
  {
   "cell_type": "code",
   "execution_count": 13,
   "id": "cdfa0b3f-dea0-4028-8426-366cbdc0afcf",
   "metadata": {},
   "outputs": [
    {
     "name": "stderr",
     "output_type": "stream",
     "text": [
      "/tmp/ipykernel_39825/2017005572.py:1: RuntimeWarning: invalid value encountered in divide\n",
      "  F1 = 2 * (all_precision * all_recall) / (all_precision + all_recall)\n"
     ]
    },
    {
     "data": {
      "text/plain": [
       "np.float64(0.5700000000000001)"
      ]
     },
     "execution_count": 13,
     "metadata": {},
     "output_type": "execute_result"
    }
   ],
   "source": [
    "F1 = 2 * (all_precision * all_recall) / (all_precision + all_recall)\n",
    "thresholds_to_test[pd.Series(F1).idxmax()]"
   ]
  },
  {
   "cell_type": "code",
   "execution_count": 14,
   "id": "d26d16d0-3fd6-42e5-a783-853abfc9b649",
   "metadata": {},
   "outputs": [
    {
     "name": "stdout",
     "output_type": "stream",
     "text": [
      "0.822 +- 0.036\n"
     ]
    }
   ],
   "source": [
    "kfold = KFold(n_splits=5, shuffle=True, random_state=1)\n",
    "\n",
    "scores = []\n",
    "\n",
    "for train_idx, val_idx in kfold.split(data_full_train):\n",
    "    df_train = data_full_train.iloc[train_idx]\n",
    "    df_val = data_full_train.iloc[val_idx]\n",
    "    y_train = y_full_train.iloc[train_idx].values\n",
    "    y_val = y_full_train.iloc[val_idx].values\n",
    "    \n",
    "    model, dv = train(df_train, y_train)\n",
    "    y_pred, X_val = predict(model, dv, df_val)\n",
    "    auc = return_AUC(y_pred, y_val)\n",
    "    \n",
    "    scores.append(auc)\n",
    "    \n",
    "print('%.3f +- %.3f' % (np.mean(scores), np.std(scores)))\n"
   ]
  },
  {
   "cell_type": "code",
   "execution_count": 15,
   "id": "b787e8a2-285f-428f-b434-c36a3f92633e",
   "metadata": {},
   "outputs": [
    {
     "name": "stdout",
     "output_type": "stream",
     "text": [
      "1e-06 : 0.560 +- 0.024\n",
      "0.001 : 0.867 +- 0.029\n",
      "1 : 0.822 +- 0.036\n"
     ]
    }
   ],
   "source": [
    "for C in [0.000001, 0.001, 1] : \n",
    "\n",
    "    kfold = KFold(n_splits=5, shuffle=True, random_state=1)\n",
    "\n",
    "    scores = []\n",
    "    \n",
    "    for train_idx, val_idx in kfold.split(data_full_train):\n",
    "        df_train = data_full_train.iloc[train_idx]\n",
    "        df_val = data_full_train.iloc[val_idx]\n",
    "        y_train = y_full_train.iloc[train_idx].values\n",
    "        y_val = y_full_train.iloc[val_idx].values\n",
    "        \n",
    "        model, dv = train(df_train, y_train, C = C)\n",
    "        y_pred, X_val = predict(model, dv, df_val)\n",
    "        auc = return_AUC(y_pred, y_val)\n",
    "        \n",
    "        scores.append(auc)\n",
    "        \n",
    "    print('%s : %.3f +- %.3f' % (C, np.mean(scores), np.std(scores)))"
   ]
  }
 ],
 "metadata": {
  "kernelspec": {
   "display_name": "Python 3 (ipykernel)",
   "language": "python",
   "name": "python3"
  },
  "language_info": {
   "codemirror_mode": {
    "name": "ipython",
    "version": 3
   },
   "file_extension": ".py",
   "mimetype": "text/x-python",
   "name": "python",
   "nbconvert_exporter": "python",
   "pygments_lexer": "ipython3",
   "version": "3.12.1"
  }
 },
 "nbformat": 4,
 "nbformat_minor": 5
}
